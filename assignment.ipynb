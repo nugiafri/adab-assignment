{
 "cells": [
  {
   "cell_type": "code",
   "execution_count": 1,
   "id": "95a441f8-39e4-4016-9154-5314b8d24231",
   "metadata": {},
   "outputs": [],
   "source": [
    "import pandas as pd\n",
    "import numpy as np\n",
    "import requests\n",
    "import json"
   ]
  },
  {
   "cell_type": "code",
   "execution_count": 1,
   "id": "d29aba21-286d-4c20-8498-2f97f5bd74ea",
   "metadata": {},
   "outputs": [
    {
     "data": {
      "text/plain": [
       "['Ditto',\n",
       " 'Clefairy',\n",
       " 'Pikachu',\n",
       " 'Ninetales',\n",
       " 'Alakazam',\n",
       " 'Bulbasaur',\n",
       " 'Charizard',\n",
       " 'Gardevoir',\n",
       " 'Mewtwo',\n",
       " 'Blastoise']"
      ]
     },
     "execution_count": 1,
     "metadata": {},
     "output_type": "execute_result"
    }
   ],
   "source": [
    "card_list = ['Ditto', 'Clefairy', 'Pikachu', \n",
    "                        'Ninetales', 'Alakazam', 'Bulbasaur', 'Charizard', 'Gardevoir','Mewtwo', 'Blastoise']\n",
    "card_list"
   ]
  }
 ],
 "metadata": {
  "kernelspec": {
   "display_name": "Python 3",
   "language": "python",
   "name": "python3"
  },
  "language_info": {
   "codemirror_mode": {
    "name": "ipython",
    "version": 3
   },
   "file_extension": ".py",
   "mimetype": "text/x-python",
   "name": "python",
   "nbconvert_exporter": "python",
   "pygments_lexer": "ipython3",
   "version": "3.8.10"
  }
 },
 "nbformat": 4,
 "nbformat_minor": 5
}
